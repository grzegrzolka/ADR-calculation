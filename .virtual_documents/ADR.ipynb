import pandas as pd


file_name = "D-Value_A1_A2_Exempt.xlsm"


df = pd.read_excel(file_name, sheet_name = "D-Value_A1_A2_Exempted")


df.head()


df.columns


working_df = df[["Radionuclide", 
                "D-Value [TBq]", 
                "A1 [TBq]", 
                "A2 [TBq]", 
                "Transport Security Threshold [TBq]",
                "High Activity Source Directive 2013/59/EURATOM  [TBq]",
                "D-Value [Bq] P2",
                "Activity concentration for exempt material (Bq/g)",
                "Activity limit for an exempt consignment (Bq) P1",
                "Desintegration [Years]"]]
working_df


isotope_1 = "Cs-137"
activity_1 = 200

isotope_2 = "Am-241"
activity_2 = 1000

isotope_3 = "Sr-90"
activity_3 = 900

activity_list = [activity_1, activity_2, activity_3 ]


working_df = working_df.set_index("Radionuclide")
working_df


selected_isotopes = working_df.loc[[isotope_1, isotope_2, isotope_3]]


selected_isotopes ["Activity"] = activity_list 
selected_isotopes 


selected_isotopes ["Activity"].sum()





selected_isotopes ["Isotope Activity Ratio"] = selected_isotopes ["Activity"] /selected_isotopes ["Activity"].sum()
selected_isotopes


selected_isotopes ["Isotope Activity Ratio"] += selected_isotopes ["Activity"] /selected_isotopes ["Activity"].sum()






new_df = selected_isotopes.copy(deep=True)
new_df
